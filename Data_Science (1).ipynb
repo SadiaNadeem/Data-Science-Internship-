{
 "cells": [
  {
   "cell_type": "markdown",
   "metadata": {
    "id": "FyDPUJoIhVvv"
   },
   "source": [
    "# Exploratory data analysis (EDA)\n",
    "## Dataset Loading and Pre-processing"
   ]
  },
  {
   "cell_type": "code",
   "execution_count": 3,
   "metadata": {
    "id": "zXsTsaoQiG9t"
   },
   "outputs": [],
   "source": [
    "import pandas as pd\n",
    "import matplotlib.pyplot as plt\n",
    "import seaborn as sns\n",
    "from sklearn.preprocessing import LabelEncoder\n",
    "from sklearn.preprocessing import StandardScaler"
   ]
  },
  {
   "cell_type": "markdown",
   "metadata": {
    "id": "eRzON0WVi0Qy"
   },
   "source": [
    "## Loading Dataset\n"
   ]
  },
  {
   "cell_type": "code",
   "execution_count": 7,
   "metadata": {
    "id": "5S51pM7FjeIZ"
   },
   "outputs": [],
   "source": [
    "# Step 1: Load the dataset\n",
    "df = pd.read_csv(\"C:/Users/Pc/Desktop/Global trends in 2023.csv\",encoding='ISO-8859-1')\n"
   ]
  },
  {
   "cell_type": "markdown",
   "metadata": {
    "id": "pVpqJgzcmOVn"
   },
   "source": [
    "## Check the First Five Rows"
   ]
  },
  {
   "cell_type": "code",
   "execution_count": 8,
   "metadata": {
    "colab": {
     "base_uri": "https://localhost:8080/",
     "height": 0
    },
    "id": "Ik1SyeVomUij",
    "outputId": "f9528c75-a7cd-4493-ad58-3d15aa45431e"
   },
   "outputs": [
    {
     "name": "stdout",
     "output_type": "stream",
     "text": [
      "   No.                    News         People         Passings  \\\n",
      "0    1  War in Israel and Gaza   Damar Hamlin    Matthew Perry   \n",
      "1    2       Titanic submarine  Jeremy Renner      Tina Turner   \n",
      "2    3       Turkey earthquake    Andrew Tate  Sinéad O'Connor   \n",
      "3    4        Hurricane Hilary  Kylian Mbappé        Ken Block   \n",
      "4    5        Hurricane Idalia   Travis Kelce   Jerry Springer   \n",
      "\n",
      "                          Actors       Athletes                       Games  \\\n",
      "0                  Jeremy Renner   Damar Hamlin             Hogwarts Legacy   \n",
      "1                   Jenna Ortega  Kylian Mbappé              The Last of Us   \n",
      "2  ?? ??? (Ichikawa Ennosuke IV)   Travis Kelce                 Connections   \n",
      "3                Danny Masterson      Ja Morant  Battlegrounds Mobile India   \n",
      "4                   Pedro Pascal     Harry Kane                   Starfield   \n",
      "\n",
      "                 Movies         Musicians           Recipe  \\\n",
      "0                Barbie           Shakira         Bibimbap   \n",
      "1           Oppenheimer      Jason Aldean           Espeto   \n",
      "2                 Jawan         Joe Jonas           Papeda   \n",
      "3      Sound of Freedom       Smash Mouth    Scooped bagel   \n",
      "4  John Wick: Chapter 4  Peppino di Capri  Pasta e fagioli   \n",
      "\n",
      "                                               Songs         Sports Teams  \\\n",
      "0                                     ???? - Yoasobi       Inter Miami CF   \n",
      "1            Try That In A Small Town - Jason Aldean   Los Angeles Lakers   \n",
      "2  Bzrp Music Sessions, Vol. 53 - Shakira and Biz...          Al-Nassr FC   \n",
      "3                  Unholy - Sam Smith and Kim Petras  Manchester City F.C   \n",
      "4                                Cupid - FIFTY FIFTY           Miami Heat   \n",
      "\n",
      "          TV Shows                   Top Songs  \\\n",
      "0   The Last of Us     Bones - Imagine Dragons   \n",
      "1        Wednesday     Kesariya - Arijit Singh   \n",
      "2  Ginny & Georgia              ???? - YOASOBI   \n",
      "3        One Piece       Maan Meri Jaan - King   \n",
      "4     Kaleidoscope  Believer - Imagine Dragons   \n",
      "\n",
      "                           Top Parks  \\\n",
      "0       Park Güell, Barcelona, Spain   \n",
      "1   Central Park, New York, New York   \n",
      "2  Hyde Park, London, United Kingdom   \n",
      "3      El Retiro Park, Madrid, Spain   \n",
      "4        Villa Borghese, Rome, Italy   \n",
      "\n",
      "                               Top Stadiums  \\\n",
      "0        Spotify Camp Nou, Barcelona, Spain   \n",
      "1  Santiago Bernabéu Stadium, Madrid, Spain   \n",
      "2   Wembley Stadium, London, United Kingdom   \n",
      "3                  Tokyo Dome, Tokyo, Japan   \n",
      "4           San Siro Stadium, Milano, Italy   \n",
      "\n",
      "                                      Top Museums        Top Categories  \\\n",
      "0                    Louvre Museum, Paris, France             Translate   \n",
      "1      The British Museum, London, United Kingdom  Arts & Entertainment   \n",
      "2                    Musée d'Orsay, Paris, France                  Text   \n",
      "3  Natural History Museum, London, United Kingdom             Education   \n",
      "4                   teamLab Planets, Tokyo, Japan              Shopping   \n",
      "\n",
      "  Top Apparel  Unitprice  \n",
      "0       Shirt        3.6  \n",
      "1   Outerwear        2.8  \n",
      "2    Footwear        3.1  \n",
      "3       Dress        3.8  \n",
      "4       Pants        4.3  \n"
     ]
    }
   ],
   "source": [
    "# Check the first few rows of the dataset\n",
    "print(df.head())\n"
   ]
  },
  {
   "cell_type": "markdown",
   "metadata": {
    "id": "-Uu36F2jjtoE"
   },
   "source": [
    "## Check for Missing Values"
   ]
  },
  {
   "cell_type": "code",
   "execution_count": 9,
   "metadata": {
    "colab": {
     "base_uri": "https://localhost:8080/",
     "height": 0
    },
    "id": "un54bEjXj7Aw",
    "outputId": "12d7a3b7-6655-4b8a-f45e-24ecb792ff08"
   },
   "outputs": [
    {
     "name": "stdout",
     "output_type": "stream",
     "text": [
      "Missing values before handling:\n",
      " No.               0\n",
      "News              0\n",
      "People            0\n",
      "Passings          0\n",
      "Actors            0\n",
      "Athletes          0\n",
      "Games             0\n",
      "Movies            0\n",
      "Musicians         0\n",
      "Recipe            0\n",
      "Songs             0\n",
      "Sports Teams      0\n",
      "TV Shows          0\n",
      "Top Songs         0\n",
      "Top Parks         0\n",
      "Top Stadiums      0\n",
      "Top Museums       0\n",
      "Top Categories    0\n",
      "Top Apparel       0\n",
      "Unitprice         0\n",
      "dtype: int64\n"
     ]
    }
   ],
   "source": [
    "print(\"Missing values before handling:\\n\", df.isnull().sum())\n"
   ]
  },
  {
   "cell_type": "markdown",
   "metadata": {
    "id": "i1fpS_4TkDgg"
   },
   "source": [
    "## Handle Missing Values"
   ]
  },
  {
   "cell_type": "code",
   "execution_count": 10,
   "metadata": {
    "id": "vQiydsMvkHl7"
   },
   "outputs": [],
   "source": [
    "df.fillna(df.select_dtypes(include='number').mean(), inplace=True)"
   ]
  },
  {
   "cell_type": "markdown",
   "metadata": {
    "id": "3WJme6BKkdho"
   },
   "source": [
    "## One-Hot Encoding for Categorical Columns"
   ]
  },
  {
   "cell_type": "code",
   "execution_count": 11,
   "metadata": {
    "id": "e7ZQ-CXfklJ_"
   },
   "outputs": [],
   "source": [
    "df = pd.get_dummies(df, columns=['News'], drop_first=True)"
   ]
  },
  {
   "cell_type": "markdown",
   "metadata": {
    "id": "RSjYpGvpkyCq"
   },
   "source": [
    "## Check for Duplicates"
   ]
  },
  {
   "cell_type": "code",
   "execution_count": 12,
   "metadata": {
    "colab": {
     "base_uri": "https://localhost:8080/",
     "height": 0
    },
    "id": "_FmE0jhVkzHf",
    "outputId": "6803555a-999b-4a85-bbb9-a418ae74e574"
   },
   "outputs": [
    {
     "name": "stdout",
     "output_type": "stream",
     "text": [
      "Duplicate rows before dropping: 0\n"
     ]
    }
   ],
   "source": [
    "print(f\"Duplicate rows before dropping: {df.duplicated().sum()}\")\n",
    "df.drop_duplicates(inplace=True)"
   ]
  },
  {
   "cell_type": "markdown",
   "metadata": {
    "id": "BH3Cw1JHk8Qg"
   },
   "source": [
    "\n",
    "\n",
    "*   duplicated().sum(): Counts duplicate rows\n",
    "*   drop_duplicates(): Removes duplicate rows"
   ]
  },
  {
   "cell_type": "markdown",
   "metadata": {
    "id": "Vkc6hTXBlYL5"
   },
   "source": [
    "## Exploratory Data Analysis\n"
   ]
  },
  {
   "cell_type": "code",
   "execution_count": 14,
   "metadata": {
    "colab": {
     "base_uri": "https://localhost:8080/",
     "height": 0
    },
    "id": "hWApTltFlmLL",
    "outputId": "bc80f82d-4ed2-4575-99ce-f0dc99782460"
   },
   "outputs": [
    {
     "name": "stdout",
     "output_type": "stream",
     "text": [
      "Dataset summary:\n",
      "             No.  Unitprice  News_Hurricane Hilary  News_Hurricane Idalia  \\\n",
      "count  10.00000  10.000000              10.000000              10.000000   \n",
      "mean    5.50000   3.530000               0.100000               0.100000   \n",
      "std     3.02765   1.334208               0.316228               0.316228   \n",
      "min     1.00000   2.200000               0.000000               0.000000   \n",
      "25%     3.25000   2.650000               0.000000               0.000000   \n",
      "50%     5.50000   3.350000               0.000000               0.000000   \n",
      "75%     7.75000   3.775000               0.000000               0.000000   \n",
      "max    10.00000   6.800000               1.000000               1.000000   \n",
      "\n",
      "       News_Hurricane Lee  News_Maine shooting  News_Nashville shooting  \\\n",
      "count           10.000000            10.000000                10.000000   \n",
      "mean             0.100000             0.100000                 0.100000   \n",
      "std              0.316228             0.316228                 0.316228   \n",
      "min              0.000000             0.000000                 0.000000   \n",
      "25%              0.000000             0.000000                 0.000000   \n",
      "50%              0.000000             0.000000                 0.000000   \n",
      "75%              0.000000             0.000000                 0.000000   \n",
      "max              1.000000             1.000000                 1.000000   \n",
      "\n",
      "       News_Titanic submarine  News_Turkey earthquake  \\\n",
      "count               10.000000               10.000000   \n",
      "mean                 0.100000                0.100000   \n",
      "std                  0.316228                0.316228   \n",
      "min                  0.000000                0.000000   \n",
      "25%                  0.000000                0.000000   \n",
      "50%                  0.000000                0.000000   \n",
      "75%                  0.000000                0.000000   \n",
      "max                  1.000000                1.000000   \n",
      "\n",
      "       News_War in Israel and Gaza  News_War in Sudan  \n",
      "count                    10.000000          10.000000  \n",
      "mean                      0.100000           0.100000  \n",
      "std                       0.316228           0.316228  \n",
      "min                       0.000000           0.000000  \n",
      "25%                       0.000000           0.000000  \n",
      "50%                       0.000000           0.000000  \n",
      "75%                       0.000000           0.000000  \n",
      "max                       1.000000           1.000000  \n"
     ]
    }
   ],
   "source": [
    "print(\"Dataset summary:\\n\", df.describe())\n"
   ]
  },
  {
   "cell_type": "markdown",
   "metadata": {
    "id": "YxqdL-w8lphQ"
   },
   "source": [
    "\n",
    "\n",
    "*   describe(): Summarizes numerical columns, showing count, mean, min, max, and quartiles.\n",
    "\n"
   ]
  },
  {
   "cell_type": "markdown",
   "metadata": {
    "id": "hbuKQ38NnrUC"
   },
   "source": [
    "## Normalize or Scale Numerical Data\n"
   ]
  },
  {
   "cell_type": "code",
   "execution_count": 15,
   "metadata": {
    "colab": {
     "base_uri": "https://localhost:8080/",
     "height": 0
    },
    "id": "1pxjhMP2ngR5",
    "outputId": "0a5237ac-56bb-47d1-9b8c-837ab34177f4"
   },
   "outputs": [
    {
     "name": "stdout",
     "output_type": "stream",
     "text": [
      "Numerical columns to scale: Index(['No.', 'Unitprice', 'News_Hurricane Hilary', 'News_Hurricane Idalia',\n",
      "       'News_Hurricane Lee', 'News_Maine shooting', 'News_Nashville shooting',\n",
      "       'News_Titanic submarine', 'News_Turkey earthquake',\n",
      "       'News_War in Israel and Gaza', 'News_War in Sudan'],\n",
      "      dtype='object')\n",
      "First few rows of the normalized dataset:\n",
      "         No.         People         Passings                         Actors  \\\n",
      "0 -1.566699   Damar Hamlin    Matthew Perry                  Jeremy Renner   \n",
      "1 -1.218544  Jeremy Renner      Tina Turner                   Jenna Ortega   \n",
      "2 -0.870388    Andrew Tate  Sinéad O'Connor  ?? ??? (Ichikawa Ennosuke IV)   \n",
      "3 -0.522233  Kylian Mbappé        Ken Block                Danny Masterson   \n",
      "4 -0.174078   Travis Kelce   Jerry Springer                   Pedro Pascal   \n",
      "\n",
      "        Athletes                       Games                Movies  \\\n",
      "0   Damar Hamlin             Hogwarts Legacy                Barbie   \n",
      "1  Kylian Mbappé              The Last of Us           Oppenheimer   \n",
      "2   Travis Kelce                 Connections                 Jawan   \n",
      "3      Ja Morant  Battlegrounds Mobile India      Sound of Freedom   \n",
      "4     Harry Kane                   Starfield  John Wick: Chapter 4   \n",
      "\n",
      "          Musicians           Recipe  \\\n",
      "0           Shakira         Bibimbap   \n",
      "1      Jason Aldean           Espeto   \n",
      "2         Joe Jonas           Papeda   \n",
      "3       Smash Mouth    Scooped bagel   \n",
      "4  Peppino di Capri  Pasta e fagioli   \n",
      "\n",
      "                                               Songs  ... Unitprice  \\\n",
      "0                                     ???? - Yoasobi  ...  0.055304   \n",
      "1            Try That In A Small Town - Jason Aldean  ... -0.576737   \n",
      "2  Bzrp Music Sessions, Vol. 53 - Shakira and Biz...  ... -0.339722   \n",
      "3                  Unholy - Sam Smith and Kim Petras  ...  0.213314   \n",
      "4                                Cupid - FIFTY FIFTY  ...  0.608339   \n",
      "\n",
      "  News_Hurricane Hilary News_Hurricane Idalia News_Hurricane Lee  \\\n",
      "0             -0.333333             -0.333333          -0.333333   \n",
      "1             -0.333333             -0.333333          -0.333333   \n",
      "2             -0.333333             -0.333333          -0.333333   \n",
      "3              3.000000             -0.333333          -0.333333   \n",
      "4             -0.333333              3.000000          -0.333333   \n",
      "\n",
      "  News_Maine shooting News_Nashville shooting News_Titanic submarine  \\\n",
      "0           -0.333333               -0.333333              -0.333333   \n",
      "1           -0.333333               -0.333333               3.000000   \n",
      "2           -0.333333               -0.333333              -0.333333   \n",
      "3           -0.333333               -0.333333              -0.333333   \n",
      "4           -0.333333               -0.333333              -0.333333   \n",
      "\n",
      "  News_Turkey earthquake  News_War in Israel and Gaza  News_War in Sudan  \n",
      "0              -0.333333                     3.000000          -0.333333  \n",
      "1              -0.333333                    -0.333333          -0.333333  \n",
      "2               3.000000                    -0.333333          -0.333333  \n",
      "3              -0.333333                    -0.333333          -0.333333  \n",
      "4              -0.333333                    -0.333333          -0.333333  \n",
      "\n",
      "[5 rows x 28 columns]\n"
     ]
    }
   ],
   "source": [
    "# Step 1: Identify numerical columns\n",
    "numerical_columns = df.select_dtypes(include='number').columns\n",
    "print(\"Numerical columns to scale:\", numerical_columns)\n",
    "\n",
    "# Step 2: Apply standardization (Z-score scaling)\n",
    "scaler = StandardScaler()\n",
    "df[numerical_columns] = scaler.fit_transform(df[numerical_columns])\n",
    "\n",
    "# Step 3: Check the transformed dataset\n",
    "print(\"First few rows of the normalized dataset:\\n\", df.head())\n"
   ]
  },
  {
   "cell_type": "markdown",
   "metadata": {
    "id": "i5jIzofCoNpv"
   },
   "source": [
    "## Visualizing Data"
   ]
  },
  {
   "cell_type": "code",
   "execution_count": 30,
   "metadata": {
    "colab": {
     "base_uri": "https://localhost:8080/",
     "height": 927
    },
    "id": "J6huxGAVoUut",
    "outputId": "b3466072-600a-42c4-a3ee-2cf5a78d7d79"
   },
   "outputs": [
    {
     "data": {
      "image/png": "[encoded data removed]",
      "text/plain": [
       "<Figure size 640x480 with 1 Axes>"
      ]
     },
     "metadata": {},
     "output_type": "display_data"
    },
    {
     "data": {
      "image/png": "[encoded data removed]",
      "text/plain": [
       "<Figure size 640x480 with 1 Axes>"
      ]
     },
     "metadata": {},
     "output_type": "display_data"
    }
   ],
   "source": [
    "# Visualize the 'Unitprice' column\n",
    "df['Unitprice'].hist(bins=20, color='skyblue', edgecolor='black')\n",
    "plt.title(\"Histogram of UnitPrice\")\n",
    "plt.xlabel(\"UnitPrice\")\n",
    "plt.ylabel(\"Frequency\")\n",
    "plt.show()\n",
    "\n",
    "sns.boxplot(x=df['Unitprice'], color='lightcoral')\n",
    "plt.title(\"Boxplot of UnitPrice\")\n",
    "plt.xlabel(\"UnitPrice\")\n",
    "plt.show()"
   ]
  }
 ],
 "metadata": {
  "colab": {
   "provenance": []
  },
  "kernelspec": {
   "display_name": "Python 3 (ipykernel)",
   "language": "python",
   "name": "python3"
  },
  "language_info": {
   "codemirror_mode": {
    "name": "ipython",
    "version": 3
   },
   "file_extension": ".py",
   "mimetype": "text/x-python",
   "name": "python",
   "nbconvert_exporter": "python",
   "pygments_lexer": "ipython3",
   "version": "3.9.13"
  }
 },
 "nbformat": 4,
 "nbformat_minor": 1
}
